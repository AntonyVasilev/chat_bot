{
 "cells": [
  {
   "cell_type": "code",
   "execution_count": null,
   "metadata": {
    "scrolled": true
   },
   "outputs": [],
   "source": [
    "# !pip install google-cloud-dialogflow"
   ]
  },
  {
   "cell_type": "code",
   "execution_count": null,
   "metadata": {},
   "outputs": [],
   "source": [
    "# !pip install --user python-telegram-bot --upgrade"
   ]
  },
  {
   "cell_type": "code",
   "execution_count": null,
   "metadata": {},
   "outputs": [],
   "source": [
    "# !pip install pymorphy2[fast]"
   ]
  },
  {
   "cell_type": "code",
   "execution_count": 1,
   "metadata": {},
   "outputs": [],
   "source": [
    "import os\n",
    "import logging\n",
    "from telegram import Update\n",
    "from telegram.ext import Updater, CommandHandler, MessageHandler, Filters, CallbackContext"
   ]
  },
  {
   "cell_type": "markdown",
   "metadata": {},
   "source": [
    "Чат-бот с Dialgflow"
   ]
  },
  {
   "cell_type": "code",
   "execution_count": 2,
   "metadata": {},
   "outputs": [],
   "source": [
    "from google.cloud import dialogflow"
   ]
  },
  {
   "cell_type": "code",
   "execution_count": 3,
   "metadata": {},
   "outputs": [],
   "source": [
    "updater = Updater(\"5014531389:AAG--uPXfGCjBWbuT_bjtW7a01fJmgSYuTg\", use_context=True)  # Токен API к Telegram\n",
    "dispatcher = updater.dispatcher\n",
    "os.environ[\"GOOGLE_APPLICATION_CREDENTIALS\"] = './data/t-bot-slja-79ec87fe1f5b.json'# скачнный JSON\n",
    "\n",
    "\n",
    "DIALOGFLOW_PROJECT_ID = 't-bot-slja' #PROJECT ID из DialogFlow \n",
    "DIALOGFLOW_LANGUAGE_CODE = 'ru' # язык\n",
    "SESSION_ID = 'tony_nlp_bot'  # ID бота из телеграма"
   ]
  },
  {
   "cell_type": "code",
   "execution_count": null,
   "metadata": {},
   "outputs": [],
   "source": [
    "# def startCommand(update: Update, context: CallbackContext):\n",
    "#     update.message.reply_text('Добрый день!')\n",
    "\n",
    "    \n",
    "# def textMessage(update: Update, context: CallbackContext):\n",
    "#     session_client = dialogflow.SessionsClient()\n",
    "#     session = session_client.session_path(DIALOGFLOW_PROJECT_ID, SESSION_ID)\n",
    "\n",
    "#     text_input = dialogflow.TextInput(text=update.message.text,\n",
    "#                                             language_code=DIALOGFLOW_LANGUAGE_CODE)\n",
    "#     query_input = dialogflow.QueryInput(text=text_input)\n",
    "    \n",
    "#     try:\n",
    "#         response = session_client.detect_intent(session=session, query_input=query_input)\n",
    "#     except InvalidArgument:\n",
    "#          raise\n",
    "\n",
    "#     text = response.query_result.fulfillment_text\n",
    "#     if text:\n",
    "#         update.message.reply_text(response.query_result.fulfillment_text)\n",
    "#     else:\n",
    "#         update.message.reply_text('Что?')"
   ]
  },
  {
   "cell_type": "code",
   "execution_count": null,
   "metadata": {},
   "outputs": [],
   "source": [
    "# on different commands - answer in Telegram\n",
    "# dispatcher.add_handler(CommandHandler(\"start\", startCommand))\n",
    "# dispatcher.add_handler(MessageHandler(Filters.text & ~Filters.command, textMessage))"
   ]
  },
  {
   "cell_type": "code",
   "execution_count": null,
   "metadata": {},
   "outputs": [],
   "source": [
    "# Start the Bot\n",
    "# updater.start_polling()\n",
    "# updater.idle()"
   ]
  },
  {
   "cell_type": "markdown",
   "metadata": {},
   "source": [
    "Чат-бот c Bert"
   ]
  },
  {
   "cell_type": "code",
   "execution_count": 4,
   "metadata": {},
   "outputs": [],
   "source": [
    "import string\n",
    "import nltk\n",
    "import annoy\n",
    "import numpy as np\n",
    "from pymorphy2 import MorphAnalyzer\n",
    "from stop_words import get_stop_words\n",
    "from transformers import TFAutoModel, AutoTokenizer\n",
    "import pickle"
   ]
  },
  {
   "cell_type": "code",
   "execution_count": 30,
   "metadata": {},
   "outputs": [],
   "source": [
    "def get_response(question, index, index_map):\n",
    "    question = preprocess_txt(question)\n",
    "    tok = tokenizer(question, return_token_type_ids=False, return_tensors='tf')\n",
    "    vector = bert(**tok)[1].numpy()[0]\n",
    "    answers, distances = index.get_nns_by_vector(vector, 10, include_distances=True)\n",
    "    if max(distances) > 0.1:\n",
    "#         answer_idx = np.argmax(distances)\n",
    "        answer_idx = distances.index(np.random.choice(distances[-3:]))\n",
    "        return f'BERT: {index_map[answers[answer_idx]]}'\n",
    "    else:\n",
    "        return"
   ]
  },
  {
   "cell_type": "code",
   "execution_count": 31,
   "metadata": {},
   "outputs": [],
   "source": [
    "def DFtextMessage(text):\n",
    "    session_client = dialogflow.SessionsClient()\n",
    "    session = session_client.session_path(DIALOGFLOW_PROJECT_ID, SESSION_ID)\n",
    "\n",
    "    text_input = dialogflow.TextInput(text=text,language_code=DIALOGFLOW_LANGUAGE_CODE)\n",
    "    query_input = dialogflow.QueryInput(text=text_input)\n",
    "    \n",
    "    try:\n",
    "        response = session_client.detect_intent(session=session, query_input=query_input)\n",
    "    except InvalidArgument:\n",
    "         raise\n",
    "\n",
    "    text = response.query_result.fulfillment_text\n",
    "    if text:\n",
    "        return f'DF: {text}'\n",
    "    else:\n",
    "        return 'END: Что?'"
   ]
  },
  {
   "cell_type": "code",
   "execution_count": 32,
   "metadata": {},
   "outputs": [],
   "source": [
    "def preprocess_txt(line):\n",
    "    spls = \"\".join(i for i in line.strip() if i not in exclude).split()\n",
    "    spls = [morpher.parse(i.lower())[0].normal_form for i in spls]\n",
    "    spls = [i for i in spls if i not in sw and i != \"\"]\n",
    "    return ' '.join(spls)"
   ]
  },
  {
   "cell_type": "code",
   "execution_count": 33,
   "metadata": {},
   "outputs": [],
   "source": [
    "morpher = MorphAnalyzer()\n",
    "sw = set(get_stop_words(\"ru\") + nltk.corpus.stopwords.words('russian'))\n",
    "exclude = set(string.punctuation)"
   ]
  },
  {
   "cell_type": "code",
   "execution_count": 9,
   "metadata": {},
   "outputs": [
    {
     "name": "stderr",
     "output_type": "stream",
     "text": [
      "All model checkpoint layers were used when initializing TFBertModel.\n",
      "\n",
      "All the layers of TFBertModel were initialized from the model checkpoint at setu4993/LaBSE.\n",
      "If your task is similar to the task the model of the checkpoint was trained on, you can already use TFBertModel for predictions without further training.\n"
     ]
    }
   ],
   "source": [
    "bert = TFAutoModel.from_pretrained(\"setu4993/LaBSE\")\n",
    "tokenizer = AutoTokenizer.from_pretrained(\"setu4993/LaBSE\")"
   ]
  },
  {
   "cell_type": "markdown",
   "metadata": {},
   "source": [
    "Файлы доступны по ссылкам:  \n",
    "index_map: https://drive.google.com/file/d/1jBANV0ParwfVAjRnQ6tZ40OmRrgVqTfj/view?usp=sharing  \n",
    "bert_index: https://drive.google.com/file/d/1s_b5a7LyDi2XtwXKHFYov9zPMURnaW4u/view?usp=sharing"
   ]
  },
  {
   "cell_type": "code",
   "execution_count": 10,
   "metadata": {},
   "outputs": [
    {
     "data": {
      "text/plain": [
       "True"
      ]
     },
     "execution_count": 10,
     "metadata": {},
     "output_type": "execute_result"
    }
   ],
   "source": [
    "bert_index = annoy.AnnoyIndex(768 , 'angular')\n",
    "bert_index.load('./data/bert_index')"
   ]
  },
  {
   "cell_type": "code",
   "execution_count": 11,
   "metadata": {},
   "outputs": [],
   "source": [
    "with open('./data/index_map.pkl', 'rb') as f:\n",
    "    index_map = pickle.load(f)"
   ]
  },
  {
   "cell_type": "code",
   "execution_count": 34,
   "metadata": {},
   "outputs": [],
   "source": [
    "def start(update: Update, context: CallbackContext):\n",
    "    update.message.reply_text('Hi!')\n",
    "\n",
    "def text_message(update: Update, context: CallbackContext):\n",
    "    text = update.message.text\n",
    "    response = get_response(text, bert_index, index_map)\n",
    "    if response:\n",
    "        update.message.reply_text(response)\n",
    "    else:\n",
    "        response = DFtextMessage(text)\n",
    "        update.message.reply_text(response)"
   ]
  },
  {
   "cell_type": "code",
   "execution_count": 36,
   "metadata": {},
   "outputs": [],
   "source": [
    "# updater = Updater(\"5014531389:AAG--uPXfGCjBWbuT_bjtW7a01fJmgSYuTg\", use_context=True)\n",
    "# dispatcher = updater.dispatcher\n",
    "\n",
    "# on different commands - answer in Telegram\n",
    "dispatcher.add_handler(CommandHandler(\"start\", start))\n",
    "dispatcher.add_handler(MessageHandler(Filters.text & ~Filters.command, text_message))\n",
    "\n",
    "# Start the Bot\n",
    "updater.start_polling()\n",
    "updater.idle()"
   ]
  },
  {
   "cell_type": "code",
   "execution_count": null,
   "metadata": {},
   "outputs": [],
   "source": []
  }
 ],
 "metadata": {
  "hide_input": false,
  "kernelspec": {
   "display_name": "Python 3",
   "language": "python",
   "name": "python3"
  },
  "language_info": {
   "codemirror_mode": {
    "name": "ipython",
    "version": 3
   },
   "file_extension": ".py",
   "mimetype": "text/x-python",
   "name": "python",
   "nbconvert_exporter": "python",
   "pygments_lexer": "ipython3",
   "version": "3.8.5"
  }
 },
 "nbformat": 4,
 "nbformat_minor": 4
}
